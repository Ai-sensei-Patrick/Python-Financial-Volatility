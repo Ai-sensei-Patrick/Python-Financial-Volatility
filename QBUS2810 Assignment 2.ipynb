{
 "cells": [
  {
   "cell_type": "code",
   "execution_count": 1,
   "metadata": {},
   "outputs": [],
   "source": [
    "%matplotlib inline\n",
    "import pandas as pd\n",
    "import numpy as np\n",
    "import statsmodels.api as sm\n",
    "import statsmodels.formula.api as smf\n",
    "import matplotlib.pyplot as plt\n",
    "import seaborn as sns "
   ]
  },
  {
   "cell_type": "code",
   "execution_count": 29,
   "metadata": {},
   "outputs": [
    {
     "data": {
      "text/html": [
       "<div>\n",
       "<style scoped>\n",
       "    .dataframe tbody tr th:only-of-type {\n",
       "        vertical-align: middle;\n",
       "    }\n",
       "\n",
       "    .dataframe tbody tr th {\n",
       "        vertical-align: top;\n",
       "    }\n",
       "\n",
       "    .dataframe thead th {\n",
       "        text-align: right;\n",
       "    }\n",
       "</style>\n",
       "<table border=\"1\" class=\"dataframe\">\n",
       "  <thead>\n",
       "    <tr style=\"text-align: right;\">\n",
       "      <th></th>\n",
       "      <th>Date</th>\n",
       "      <th>r_data</th>\n",
       "      <th>rv_data_not_scaled</th>\n",
       "      <th>day_of_week</th>\n",
       "      <th>Mon</th>\n",
       "      <th>Tues</th>\n",
       "      <th>Wed</th>\n",
       "      <th>Thurs</th>\n",
       "      <th>Fri</th>\n",
       "      <th>month_yr</th>\n",
       "      <th>Summer</th>\n",
       "      <th>Autumn</th>\n",
       "      <th>Winter</th>\n",
       "      <th>Spring</th>\n",
       "      <th>Season</th>\n",
       "      <th>RV_sc_sqr</th>\n",
       "    </tr>\n",
       "  </thead>\n",
       "  <tbody>\n",
       "    <tr>\n",
       "      <th>0</th>\n",
       "      <td>2012-11-06</td>\n",
       "      <td>0.002384</td>\n",
       "      <td>0.000016</td>\n",
       "      <td>1</td>\n",
       "      <td>0</td>\n",
       "      <td>1</td>\n",
       "      <td>0</td>\n",
       "      <td>0</td>\n",
       "      <td>0</td>\n",
       "      <td>11</td>\n",
       "      <td>0</td>\n",
       "      <td>0</td>\n",
       "      <td>0</td>\n",
       "      <td>1</td>\n",
       "      <td>4</td>\n",
       "      <td>0.401941</td>\n",
       "    </tr>\n",
       "    <tr>\n",
       "      <th>1</th>\n",
       "      <td>2014-06-16</td>\n",
       "      <td>0.001343</td>\n",
       "      <td>0.000013</td>\n",
       "      <td>0</td>\n",
       "      <td>1</td>\n",
       "      <td>0</td>\n",
       "      <td>0</td>\n",
       "      <td>0</td>\n",
       "      <td>0</td>\n",
       "      <td>6</td>\n",
       "      <td>0</td>\n",
       "      <td>0</td>\n",
       "      <td>1</td>\n",
       "      <td>0</td>\n",
       "      <td>3</td>\n",
       "      <td>0.354417</td>\n",
       "    </tr>\n",
       "    <tr>\n",
       "      <th>2</th>\n",
       "      <td>2009-12-04</td>\n",
       "      <td>-0.015275</td>\n",
       "      <td>0.000021</td>\n",
       "      <td>4</td>\n",
       "      <td>0</td>\n",
       "      <td>0</td>\n",
       "      <td>0</td>\n",
       "      <td>0</td>\n",
       "      <td>1</td>\n",
       "      <td>12</td>\n",
       "      <td>1</td>\n",
       "      <td>0</td>\n",
       "      <td>0</td>\n",
       "      <td>0</td>\n",
       "      <td>1</td>\n",
       "      <td>0.455920</td>\n",
       "    </tr>\n",
       "    <tr>\n",
       "      <th>3</th>\n",
       "      <td>2001-06-14</td>\n",
       "      <td>0.006085</td>\n",
       "      <td>0.000023</td>\n",
       "      <td>3</td>\n",
       "      <td>0</td>\n",
       "      <td>0</td>\n",
       "      <td>0</td>\n",
       "      <td>1</td>\n",
       "      <td>0</td>\n",
       "      <td>6</td>\n",
       "      <td>0</td>\n",
       "      <td>0</td>\n",
       "      <td>1</td>\n",
       "      <td>0</td>\n",
       "      <td>3</td>\n",
       "      <td>0.483974</td>\n",
       "    </tr>\n",
       "    <tr>\n",
       "      <th>4</th>\n",
       "      <td>2014-10-20</td>\n",
       "      <td>0.009011</td>\n",
       "      <td>0.000020</td>\n",
       "      <td>0</td>\n",
       "      <td>1</td>\n",
       "      <td>0</td>\n",
       "      <td>0</td>\n",
       "      <td>0</td>\n",
       "      <td>0</td>\n",
       "      <td>10</td>\n",
       "      <td>0</td>\n",
       "      <td>0</td>\n",
       "      <td>0</td>\n",
       "      <td>1</td>\n",
       "      <td>4</td>\n",
       "      <td>0.447861</td>\n",
       "    </tr>\n",
       "  </tbody>\n",
       "</table>\n",
       "</div>"
      ],
      "text/plain": [
       "         Date    r_data  rv_data_not_scaled  day_of_week  Mon  Tues  Wed  \\\n",
       "0  2012-11-06  0.002384            0.000016            1    0     1    0   \n",
       "1  2014-06-16  0.001343            0.000013            0    1     0    0   \n",
       "2  2009-12-04 -0.015275            0.000021            4    0     0    0   \n",
       "3  2001-06-14  0.006085            0.000023            3    0     0    0   \n",
       "4  2014-10-20  0.009011            0.000020            0    1     0    0   \n",
       "\n",
       "   Thurs  Fri  month_yr  Summer  Autumn  Winter  Spring  Season  RV_sc_sqr  \n",
       "0      0    0        11       0       0       0       1       4   0.401941  \n",
       "1      0    0         6       0       0       1       0       3   0.354417  \n",
       "2      0    1        12       1       0       0       0       1   0.455920  \n",
       "3      1    0         6       0       0       1       0       3   0.483974  \n",
       "4      0    0        10       0       0       0       1       4   0.447861  "
      ]
     },
     "execution_count": 29,
     "metadata": {},
     "output_type": "execute_result"
    }
   ],
   "source": [
    "data=pd.read_csv('Mydata.csv')\n",
    "#Clean any N/A values\n",
    "data.dropna()\n",
    "data.head()"
   ]
  },
  {
   "cell_type": "markdown",
   "metadata": {},
   "source": [
    "I clean any N/A value that appear in the data, but since the number of row in the data are the same after removing any N/A value, this indicate data is complete. I didn't remove any outliers that appear in the data, since removing any outliers require a good reasoning for it (could be measurement error or others things), also removing outlier will also caused the data to be bias."
   ]
  },
  {
   "cell_type": "code",
   "execution_count": 3,
   "metadata": {},
   "outputs": [
    {
     "data": {
      "text/plain": [
       "<matplotlib.axes._subplots.AxesSubplot at 0x23b1aa838e0>"
      ]
     },
     "execution_count": 3,
     "metadata": {},
     "output_type": "execute_result"
    },
    {
     "data": {
      "image/png": "[encoded data removed]",
      "text/plain": [
       "<Figure size 1440x720 with 1 Axes>"
      ]
     },
     "metadata": {
      "needs_background": "light"
     },
     "output_type": "display_data"
    }
   ],
   "source": [
    "plt.figure(figsize=(20,10))\n",
    "data['RV_sc_sqr'].plot()"
   ]
  },
  {
   "cell_type": "code",
   "execution_count": 4,
   "metadata": {},
   "outputs": [
    {
     "data": {
      "image/png": "[encoded data removed]",
      "text/plain": [
       "<Figure size 432x288 with 1 Axes>"
      ]
     },
     "metadata": {
      "needs_background": "light"
     },
     "output_type": "display_data"
    }
   ],
   "source": [
    "plt.hist(data['RV_sc_sqr'])\n",
    "plt.show()"
   ]
  },
  {
   "cell_type": "code",
   "execution_count": 5,
   "metadata": {},
   "outputs": [
    {
     "data": {
      "text/plain": [
       "DescribeResult(nobs=2500, minmax=(0.09899360425299146, 3.972354140179674), mean=0.6632923904818956, variance=0.16076983570675618, skewness=2.5285571688600696, kurtosis=10.710493278212446)"
      ]
     },
     "execution_count": 5,
     "metadata": {},
     "output_type": "execute_result"
    }
   ],
   "source": [
    "from scipy import stats\n",
    "stats.describe(data['RV_sc_sqr'])"
   ]
  },
  {
   "cell_type": "code",
   "execution_count": 6,
   "metadata": {},
   "outputs": [
    {
     "data": {
      "text/plain": [
       "<matplotlib.axes._subplots.AxesSubplot at 0x23b1b2e7d60>"
      ]
     },
     "execution_count": 6,
     "metadata": {},
     "output_type": "execute_result"
    },
    {
     "data": {
      "image/png": "[encoded data removed]",
      "text/plain": [
       "<Figure size 432x288 with 1 Axes>"
      ]
     },
     "metadata": {
      "needs_background": "light"
     },
     "output_type": "display_data"
    }
   ],
   "source": [
    "sns.boxplot(x='day_of_week', y='RV_sc_sqr', data=data, palette='Blues', showmeans=True)"
   ]
  },
  {
   "cell_type": "code",
   "execution_count": 7,
   "metadata": {},
   "outputs": [
    {
     "data": {
      "text/plain": [
       "count    494.000000\n",
       "mean       0.676919\n",
       "std        0.383166\n",
       "min        0.177820\n",
       "25%        0.426537\n",
       "50%        0.563251\n",
       "75%        0.818781\n",
       "max        2.588705\n",
       "Name: RV_sc_sqr, dtype: float64"
      ]
     },
     "execution_count": 7,
     "metadata": {},
     "output_type": "execute_result"
    }
   ],
   "source": [
    "data.loc[data['day_of_week'] == 0, 'RV_sc_sqr'].describe()"
   ]
  },
  {
   "cell_type": "code",
   "execution_count": 8,
   "metadata": {},
   "outputs": [
    {
     "data": {
      "text/plain": [
       "count    523.000000\n",
       "mean       0.682668\n",
       "std        0.440910\n",
       "min        0.164146\n",
       "25%        0.423333\n",
       "50%        0.556359\n",
       "75%        0.808012\n",
       "max        3.972354\n",
       "Name: RV_sc_sqr, dtype: float64"
      ]
     },
     "execution_count": 8,
     "metadata": {},
     "output_type": "execute_result"
    }
   ],
   "source": [
    "data.loc[data['day_of_week'] == 1, 'RV_sc_sqr'].describe()"
   ]
  },
  {
   "cell_type": "code",
   "execution_count": 9,
   "metadata": {},
   "outputs": [
    {
     "data": {
      "text/plain": [
       "count    508.000000\n",
       "mean       0.699695\n",
       "std        0.426443\n",
       "min        0.145937\n",
       "25%        0.438688\n",
       "50%        0.602435\n",
       "75%        0.815977\n",
       "max        3.476575\n",
       "Name: RV_sc_sqr, dtype: float64"
      ]
     },
     "execution_count": 9,
     "metadata": {},
     "output_type": "execute_result"
    }
   ],
   "source": [
    "data.loc[data['day_of_week'] == 2, 'RV_sc_sqr'].describe()"
   ]
  },
  {
   "cell_type": "code",
   "execution_count": 10,
   "metadata": {},
   "outputs": [
    {
     "data": {
      "text/plain": [
       "count    502.000000\n",
       "mean       0.695796\n",
       "std        0.386407\n",
       "min        0.098994\n",
       "25%        0.425119\n",
       "50%        0.598843\n",
       "75%        0.842026\n",
       "max        3.442913\n",
       "Name: RV_sc_sqr, dtype: float64"
      ]
     },
     "execution_count": 10,
     "metadata": {},
     "output_type": "execute_result"
    }
   ],
   "source": [
    "data.loc[data['day_of_week'] == 3, 'RV_sc_sqr'].describe()"
   ]
  },
  {
   "cell_type": "code",
   "execution_count": 11,
   "metadata": {
    "scrolled": true
   },
   "outputs": [
    {
     "data": {
      "text/plain": [
       "count    473.000000\n",
       "mean       0.554043\n",
       "std        0.337502\n",
       "min        0.151579\n",
       "25%        0.332184\n",
       "50%        0.458785\n",
       "75%        0.686652\n",
       "max        2.565640\n",
       "Name: RV_sc_sqr, dtype: float64"
      ]
     },
     "execution_count": 11,
     "metadata": {},
     "output_type": "execute_result"
    }
   ],
   "source": [
    "data.loc[data['day_of_week'] == 4, 'RV_sc_sqr'].describe()"
   ]
  },
  {
   "cell_type": "code",
   "execution_count": 12,
   "metadata": {},
   "outputs": [
    {
     "data": {
      "text/plain": [
       "<matplotlib.axes._subplots.AxesSubplot at 0x23b1b3b4250>"
      ]
     },
     "execution_count": 12,
     "metadata": {},
     "output_type": "execute_result"
    },
    {
     "data": {
      "image/png": "[encoded data removed]",
      "text/plain": [
       "<Figure size 432x288 with 1 Axes>"
      ]
     },
     "metadata": {
      "needs_background": "light"
     },
     "output_type": "display_data"
    }
   ],
   "source": [
    "sns.boxplot(x='Season', y='RV_sc_sqr', data=data, palette='Blues', showmeans=True)"
   ]
  },
  {
   "cell_type": "code",
   "execution_count": 13,
   "metadata": {},
   "outputs": [
    {
     "data": {
      "text/plain": [
       "count    601.000000\n",
       "mean       0.606153\n",
       "std        0.364473\n",
       "min        0.145937\n",
       "25%        0.367008\n",
       "50%        0.501545\n",
       "75%        0.710157\n",
       "max        2.377114\n",
       "Name: RV_sc_sqr, dtype: float64"
      ]
     },
     "execution_count": 13,
     "metadata": {},
     "output_type": "execute_result"
    }
   ],
   "source": [
    "data.loc[data['Season'] == 1, 'RV_sc_sqr'].describe()"
   ]
  },
  {
   "cell_type": "code",
   "execution_count": 14,
   "metadata": {},
   "outputs": [
    {
     "data": {
      "text/plain": [
       "count    637.000000\n",
       "mean       0.650069\n",
       "std        0.342140\n",
       "min        0.098994\n",
       "25%        0.415261\n",
       "50%        0.566565\n",
       "75%        0.789247\n",
       "max        2.670159\n",
       "Name: RV_sc_sqr, dtype: float64"
      ]
     },
     "execution_count": 14,
     "metadata": {},
     "output_type": "execute_result"
    }
   ],
   "source": [
    "data.loc[data['Season'] == 2, 'RV_sc_sqr'].describe()"
   ]
  },
  {
   "cell_type": "code",
   "execution_count": 15,
   "metadata": {},
   "outputs": [
    {
     "data": {
      "text/plain": [
       "count    633.000000\n",
       "mean       0.696448\n",
       "std        0.397734\n",
       "min        0.167426\n",
       "25%        0.435890\n",
       "50%        0.612434\n",
       "75%        0.842058\n",
       "max        3.972354\n",
       "Name: RV_sc_sqr, dtype: float64"
      ]
     },
     "execution_count": 15,
     "metadata": {},
     "output_type": "execute_result"
    }
   ],
   "source": [
    "data.loc[data['Season'] == 3, 'RV_sc_sqr'].describe()"
   ]
  },
  {
   "cell_type": "code",
   "execution_count": 16,
   "metadata": {},
   "outputs": [
    {
     "data": {
      "text/plain": [
       "count    629.000000\n",
       "mean       0.697913\n",
       "std        0.479032\n",
       "min        0.164460\n",
       "25%        0.406652\n",
       "50%        0.559652\n",
       "75%        0.818822\n",
       "max        3.733462\n",
       "Name: RV_sc_sqr, dtype: float64"
      ]
     },
     "execution_count": 16,
     "metadata": {},
     "output_type": "execute_result"
    }
   ],
   "source": [
    "data.loc[data['Season'] == 4, 'RV_sc_sqr'].describe()"
   ]
  },
  {
   "cell_type": "markdown",
   "metadata": {},
   "source": [
    "Exploratory analysis that I conduct reveals a few things:\n",
    "\n",
    " RV is a highly, positively skewed ($S=2.53$) and fat-tailed (Kurtosis $= 10.7$) variable, subject to outliers. \n",
    " Both the sample skewness and kurtosis are very high. This tell us the number of outliers are high.\n",
    "\n",
    " The timeseries plot that I plot didn't show any pattern, this could cause by data  the randomised date in the data, \n",
    " from the observation I conclude that each data are independent to each other.\n",
    " \n",
    " From the boxplot of days of week plotted with RV_sc_sqr, I observe that average RV_sc_sqr on day of weeks 4 (Friday) is significantly lower compared to other days of week and this observation repeated for the boxplot of seasons plotted with RV_sc_sqr, average of RV_sc_sqr in season 1 (Summer) compared to other seasons.\n",
    " \n",
    " Friday's average RV_sc_sqr is lower by 16.5% compared to average RV_sc_sqr of a week (sum of all average RV_sc_sqr in each day divided by number of days), for Summer's average RV_sc_sqr lower by 8.6% compared to average RV_sc_sqr of the whole season in a year (sum of all average RV_sc_sqr in each season divided by number of seasons)\n"
   ]
  },
  {
   "cell_type": "code",
   "execution_count": 17,
   "metadata": {},
   "outputs": [
    {
     "data": {
      "text/html": [
       "<table class=\"simpletable\">\n",
       "<caption>OLS Regression Results</caption>\n",
       "<tr>\n",
       "  <th>Dep. Variable:</th>        <td>RV_sc_sqr</td>    <th>  R-squared:         </th> <td>   0.018</td>\n",
       "</tr>\n",
       "<tr>\n",
       "  <th>Model:</th>                   <td>OLS</td>       <th>  Adj. R-squared:    </th> <td>   0.016</td>\n",
       "</tr>\n",
       "<tr>\n",
       "  <th>Method:</th>             <td>Least Squares</td>  <th>  F-statistic:       </th> <td>   11.28</td>\n",
       "</tr>\n",
       "<tr>\n",
       "  <th>Date:</th>             <td>Sun, 09 May 2021</td> <th>  Prob (F-statistic):</th> <td>4.51e-09</td>\n",
       "</tr>\n",
       "<tr>\n",
       "  <th>Time:</th>                 <td>20:16:58</td>     <th>  Log-Likelihood:    </th> <td> -1239.7</td>\n",
       "</tr>\n",
       "<tr>\n",
       "  <th>No. Observations:</th>      <td>  2500</td>      <th>  AIC:               </th> <td>   2489.</td>\n",
       "</tr>\n",
       "<tr>\n",
       "  <th>Df Residuals:</th>          <td>  2495</td>      <th>  BIC:               </th> <td>   2519.</td>\n",
       "</tr>\n",
       "<tr>\n",
       "  <th>Df Model:</th>              <td>     4</td>      <th>                     </th>     <td> </td>   \n",
       "</tr>\n",
       "<tr>\n",
       "  <th>Covariance Type:</th>      <td>nonrobust</td>    <th>                     </th>     <td> </td>   \n",
       "</tr>\n",
       "</table>\n",
       "<table class=\"simpletable\">\n",
       "<tr>\n",
       "           <td></td>              <th>coef</th>     <th>std err</th>      <th>t</th>      <th>P>|t|</th>  <th>[0.025</th>    <th>0.975]</th>  \n",
       "</tr>\n",
       "<tr>\n",
       "  <th>Intercept</th>           <td>    0.6769</td> <td>    0.018</td> <td>   37.831</td> <td> 0.000</td> <td>    0.642</td> <td>    0.712</td>\n",
       "</tr>\n",
       "<tr>\n",
       "  <th>C(day_of_week)[T.1]</th> <td>    0.0057</td> <td>    0.025</td> <td>    0.230</td> <td> 0.818</td> <td>   -0.043</td> <td>    0.055</td>\n",
       "</tr>\n",
       "<tr>\n",
       "  <th>C(day_of_week)[T.2]</th> <td>    0.0228</td> <td>    0.025</td> <td>    0.906</td> <td> 0.365</td> <td>   -0.027</td> <td>    0.072</td>\n",
       "</tr>\n",
       "<tr>\n",
       "  <th>C(day_of_week)[T.3]</th> <td>    0.0189</td> <td>    0.025</td> <td>    0.749</td> <td> 0.454</td> <td>   -0.031</td> <td>    0.068</td>\n",
       "</tr>\n",
       "<tr>\n",
       "  <th>C(day_of_week)[T.4]</th> <td>   -0.1229</td> <td>    0.026</td> <td>   -4.803</td> <td> 0.000</td> <td>   -0.173</td> <td>   -0.073</td>\n",
       "</tr>\n",
       "</table>\n",
       "<table class=\"simpletable\">\n",
       "<tr>\n",
       "  <th>Omnibus:</th>       <td>1432.639</td> <th>  Durbin-Watson:     </th> <td>   1.994</td> \n",
       "</tr>\n",
       "<tr>\n",
       "  <th>Prob(Omnibus):</th>  <td> 0.000</td>  <th>  Jarque-Bera (JB):  </th> <td>14917.870</td>\n",
       "</tr>\n",
       "<tr>\n",
       "  <th>Skew:</th>           <td> 2.546</td>  <th>  Prob(JB):          </th> <td>    0.00</td> \n",
       "</tr>\n",
       "<tr>\n",
       "  <th>Kurtosis:</th>       <td>13.829</td>  <th>  Cond. No.          </th> <td>    5.86</td> \n",
       "</tr>\n",
       "</table><br/><br/>Warnings:<br/>[1] Standard Errors assume that the covariance matrix of the errors is correctly specified."
      ],
      "text/plain": [
       "<class 'statsmodels.iolib.summary.Summary'>\n",
       "\"\"\"\n",
       "                            OLS Regression Results                            \n",
       "==============================================================================\n",
       "Dep. Variable:              RV_sc_sqr   R-squared:                       0.018\n",
       "Model:                            OLS   Adj. R-squared:                  0.016\n",
       "Method:                 Least Squares   F-statistic:                     11.28\n",
       "Date:                Sun, 09 May 2021   Prob (F-statistic):           4.51e-09\n",
       "Time:                        20:16:58   Log-Likelihood:                -1239.7\n",
       "No. Observations:                2500   AIC:                             2489.\n",
       "Df Residuals:                    2495   BIC:                             2519.\n",
       "Df Model:                           4                                         \n",
       "Covariance Type:            nonrobust                                         \n",
       "=======================================================================================\n",
       "                          coef    std err          t      P>|t|      [0.025      0.975]\n",
       "---------------------------------------------------------------------------------------\n",
       "Intercept               0.6769      0.018     37.831      0.000       0.642       0.712\n",
       "C(day_of_week)[T.1]     0.0057      0.025      0.230      0.818      -0.043       0.055\n",
       "C(day_of_week)[T.2]     0.0228      0.025      0.906      0.365      -0.027       0.072\n",
       "C(day_of_week)[T.3]     0.0189      0.025      0.749      0.454      -0.031       0.068\n",
       "C(day_of_week)[T.4]    -0.1229      0.026     -4.803      0.000      -0.173      -0.073\n",
       "==============================================================================\n",
       "Omnibus:                     1432.639   Durbin-Watson:                   1.994\n",
       "Prob(Omnibus):                  0.000   Jarque-Bera (JB):            14917.870\n",
       "Skew:                           2.546   Prob(JB):                         0.00\n",
       "Kurtosis:                      13.829   Cond. No.                         5.86\n",
       "==============================================================================\n",
       "\n",
       "Warnings:\n",
       "[1] Standard Errors assume that the covariance matrix of the errors is correctly specified.\n",
       "\"\"\""
      ]
     },
     "execution_count": 17,
     "metadata": {},
     "output_type": "execute_result"
    }
   ],
   "source": [
    "model1 = smf.ols(formula='RV_sc_sqr ~ C(day_of_week)', data=data) \n",
    "reg1 = model1.fit()\n",
    "reg1.summary()"
   ]
  },
  {
   "cell_type": "markdown",
   "metadata": {},
   "source": [
    "Prediction equation from the output is:\n",
    " \n",
    "$\\text{RV_sc_sqr} = 0.6769 + 0.0057 \\times \\text{Tuesday} + 0.0228 \\times \\text{Wednesday} + 0.0189 \\times \\text{Thursday} - 0.1229 \\times \\text{Friday}$\n",
    "\n",
    "The five predictions for RV_sc_sqr, for each category of day_of_week are:\n",
    "\n",
    "$\\text{RV_sc_sqr} = 0.6769$, when $\\text{Tues} = \\text{Wed} = \\text{Thurs} = \\text{Fri} = 0$, i.e. day_of_week $= 0$ (Monday)\n",
    "\n",
    "$\\text{RV_sc_sqr} = 0.67969 + 0.0057 = 0.68539$, when $\\text{Tues} = 1, \\text{Wed} = \\text{Thurs} = \\text{Fri} = 0$, i.e. day_of_week $= 1$ (Tuesday)\n",
    "\n",
    "$\\text{RV_sc_sqr} = 0.67969 + 0.0228 = 0.704249$, when $\\text{Wed} = 1, \\text{Tues} = \\text{Thurs} = \\text{Fri} = 0$, i.e. day_of_week $= 2$ (Wednesday)\n",
    "\n",
    "$\\text{RV_sc_sqr} = 0.67969 + 0.0189 = 0.69859$, when $\\text{Thurs} = 1, \\text{Tues} = \\text{Wed} = \\text{Fri} = 0$, i.e. day_of_week $= 3$ (Thursday)\n",
    "\n",
    "$\\text{RV_sc_sqr} = 0.67969 - 0.1229 = 0.55679$, when $\\text{Fri} = 1, \\text{Tues} = \\text{Wed} = \\text{Thurs} = 0$, i.e. day_of_week $= 4$ (Friday)\n"
   ]
  },
  {
   "cell_type": "code",
   "execution_count": 18,
   "metadata": {},
   "outputs": [
    {
     "data": {
      "text/plain": [
       "<matplotlib.collections.PathCollection at 0x23b1b533eb0>"
      ]
     },
     "execution_count": 18,
     "metadata": {},
     "output_type": "execute_result"
    },
    {
     "data": {
      "image/png": "[encoded data removed]",
      "text/plain": [
       "<Figure size 432x288 with 1 Axes>"
      ]
     },
     "metadata": {
      "needs_background": "light"
     },
     "output_type": "display_data"
    }
   ],
   "source": [
    "res1 = reg1.resid\n",
    "fit1 = reg1.fittedvalues\n",
    "plt.scatter(fit1,res1)\n",
    "#plt.show()"
   ]
  },
  {
   "cell_type": "code",
   "execution_count": 19,
   "metadata": {},
   "outputs": [
    {
     "data": {
      "text/html": [
       "<div>\n",
       "<style scoped>\n",
       "    .dataframe tbody tr th:only-of-type {\n",
       "        vertical-align: middle;\n",
       "    }\n",
       "\n",
       "    .dataframe tbody tr th {\n",
       "        vertical-align: top;\n",
       "    }\n",
       "\n",
       "    .dataframe thead th {\n",
       "        text-align: right;\n",
       "    }\n",
       "</style>\n",
       "<table border=\"1\" class=\"dataframe\">\n",
       "  <thead>\n",
       "    <tr style=\"text-align: right;\">\n",
       "      <th></th>\n",
       "      <th>df</th>\n",
       "      <th>sum_sq</th>\n",
       "      <th>mean_sq</th>\n",
       "      <th>F</th>\n",
       "      <th>PR(&gt;F)</th>\n",
       "    </tr>\n",
       "  </thead>\n",
       "  <tbody>\n",
       "    <tr>\n",
       "      <th>C(day_of_week)</th>\n",
       "      <td>4.0</td>\n",
       "      <td>7.137095</td>\n",
       "      <td>1.784274</td>\n",
       "      <td>11.280947</td>\n",
       "      <td>4.506149e-09</td>\n",
       "    </tr>\n",
       "    <tr>\n",
       "      <th>Residual</th>\n",
       "      <td>2495.0</td>\n",
       "      <td>394.626724</td>\n",
       "      <td>0.158167</td>\n",
       "      <td>NaN</td>\n",
       "      <td>NaN</td>\n",
       "    </tr>\n",
       "  </tbody>\n",
       "</table>\n",
       "</div>"
      ],
      "text/plain": [
       "                    df      sum_sq   mean_sq          F        PR(>F)\n",
       "C(day_of_week)     4.0    7.137095  1.784274  11.280947  4.506149e-09\n",
       "Residual        2495.0  394.626724  0.158167        NaN           NaN"
      ]
     },
     "execution_count": 19,
     "metadata": {},
     "output_type": "execute_result"
    }
   ],
   "source": [
    "table1 = sm.stats.anova_lm(reg1, typ=1)\n",
    "table1"
   ]
  },
  {
   "cell_type": "markdown",
   "metadata": {},
   "source": [
    "ANOVA table\n",
    "\n",
    "| Source     |    SS         |   df   | Mean square |    F    |          p-val          |\n",
    "|------------|---------------|--------|-------------|---------|-------------------------|\n",
    "| Day of week|  7.137095     |   4    |  1.784274   |11.280947| 4.506 $\\times 10^{-9}$  |\n",
    "| Residuals  |  394.626724   |  2495  |  0.158167   |         |                         |\n",
    "| Total      |  401.763819   |  2499  |             |         |                         |  \n",
    "\n",
    "The hypotheses are: \n",
    "\n",
    "$H_0 \\, : \\, \\mu_0 = \\mu_1 = \\mu_2 = \\mu_3 = \\mu_4$ \n",
    "\n",
    "$H_1 \\, : \\, \\text{at least one pair of means are not equal}$\n",
    "\n",
    "I choose $\\alpha=0.05$ as standard. I assume MLR LSA 1-6.\n",
    "\n",
    "1. the groups are independent and the data iid in each group. I assumes the distribution of RV_sc_sqr is the same within each group and is only affected by days of week. LSA 1-3 are satissfied in here\n",
    "2. The data have finite 4th moments in each group, since price of stock have a finite range (bounded random variable), so the volatility of the stock itself is finite (RV_sc_sqr), this assumption is satisfied.\n",
    "3. CLT is satisfied, needing at least 30 observations in each group. This is clearly satisifed here.  \n",
    "4. Homoskedasticity are not quiet satisfied. The variences in each group are not equal based on the residual plot.\n",
    "\n",
    "The test statistic is $F_{stat} = 11.280947$ which follows an $F_{4, 2495}$ distribution under the null hypothesis. The p-value is $P(F_{4, 2495} > 11.28) = 4.51 \\times 10^{-9} = 0.000000000451$. Since the p-value $0.000000000451 < 0.05$ we reject the null and conclude that average RV_sc_sqr differs significantly among at least two of the day of week groups.\n",
    "\n",
    "Model $adjR^2=0.016$, which told me that 1.6% of the variences in market volatility explained by the OLS model that I produce, this value indicates weak fit of model to the data."
   ]
  },
  {
   "cell_type": "code",
   "execution_count": 20,
   "metadata": {},
   "outputs": [
    {
     "name": "stdout",
     "output_type": "stream",
     "text": [
      "Multiple Comparison of Means - Tukey HSD, FWER=0.05 \n",
      "====================================================\n",
      "group1 group2 meandiff p-adj   lower   upper  reject\n",
      "----------------------------------------------------\n",
      "     0      1   0.0057    0.9 -0.0624  0.0739  False\n",
      "     0      2   0.0228 0.8909 -0.0458  0.0914  False\n",
      "     0      3   0.0189    0.9 -0.0499  0.0877  False\n",
      "     0      4  -0.1229  0.001 -0.1927  -0.053   True\n",
      "     1      2    0.017    0.9 -0.0506  0.0847  False\n",
      "     1      3   0.0131    0.9 -0.0547   0.081  False\n",
      "     1      4  -0.1286  0.001 -0.1975 -0.0597   True\n",
      "     2      3  -0.0039    0.9 -0.0722  0.0644  False\n",
      "     2      4  -0.1457  0.001  -0.215 -0.0763   True\n",
      "     3      4  -0.1418  0.001 -0.2113 -0.0722   True\n",
      "----------------------------------------------------\n"
     ]
    }
   ],
   "source": [
    "from statsmodels.stats.multicomp import pairwise_tukeyhsd\n",
    "from statsmodels.stats.multicomp import MultiComparison\n",
    "mc = MultiComparison(data['RV_sc_sqr'], data['day_of_week'])\n",
    "result1 = mc.tukeyhsd()\n",
    "print(result1)"
   ]
  },
  {
   "cell_type": "markdown",
   "metadata": {},
   "source": [
    "By Tukey's method, I am (at least) 95% confident that the mean RV_sc_sqr for the 4th group of day of week (Friday), 4 and 0, 4 and 1, 4 and 2, 4 and 3  are all significantly different to each other. The data clearly suggest that average RV_sc_sqr for day of week 4 (Friday) is significantly lower than other day of week (day of week 0 (Monday), day of week 1 (Tuesday), day of week 2 (Wednesday), day of week 3 (Thursday))"
   ]
  },
  {
   "cell_type": "code",
   "execution_count": 21,
   "metadata": {},
   "outputs": [
    {
     "data": {
      "text/html": [
       "<table class=\"simpletable\">\n",
       "<caption>OLS Regression Results</caption>\n",
       "<tr>\n",
       "  <th>Dep. Variable:</th>        <td>RV_sc_sqr</td>    <th>  R-squared:         </th> <td>   0.009</td>\n",
       "</tr>\n",
       "<tr>\n",
       "  <th>Model:</th>                   <td>OLS</td>       <th>  Adj. R-squared:    </th> <td>   0.008</td>\n",
       "</tr>\n",
       "<tr>\n",
       "  <th>Method:</th>             <td>Least Squares</td>  <th>  F-statistic:       </th> <td>   7.361</td>\n",
       "</tr>\n",
       "<tr>\n",
       "  <th>Date:</th>             <td>Sun, 09 May 2021</td> <th>  Prob (F-statistic):</th> <td>6.55e-05</td>\n",
       "</tr>\n",
       "<tr>\n",
       "  <th>Time:</th>                 <td>20:16:58</td>     <th>  Log-Likelihood:    </th> <td> -1251.1</td>\n",
       "</tr>\n",
       "<tr>\n",
       "  <th>No. Observations:</th>      <td>  2500</td>      <th>  AIC:               </th> <td>   2510.</td>\n",
       "</tr>\n",
       "<tr>\n",
       "  <th>Df Residuals:</th>          <td>  2496</td>      <th>  BIC:               </th> <td>   2534.</td>\n",
       "</tr>\n",
       "<tr>\n",
       "  <th>Df Model:</th>              <td>     3</td>      <th>                     </th>     <td> </td>   \n",
       "</tr>\n",
       "<tr>\n",
       "  <th>Covariance Type:</th>      <td>nonrobust</td>    <th>                     </th>     <td> </td>   \n",
       "</tr>\n",
       "</table>\n",
       "<table class=\"simpletable\">\n",
       "<tr>\n",
       "         <td></td>           <th>coef</th>     <th>std err</th>      <th>t</th>      <th>P>|t|</th>  <th>[0.025</th>    <th>0.975]</th>  \n",
       "</tr>\n",
       "<tr>\n",
       "  <th>Intercept</th>      <td>    0.6062</td> <td>    0.016</td> <td>   37.202</td> <td> 0.000</td> <td>    0.574</td> <td>    0.638</td>\n",
       "</tr>\n",
       "<tr>\n",
       "  <th>C(Season)[T.2]</th> <td>    0.0439</td> <td>    0.023</td> <td>    1.933</td> <td> 0.053</td> <td>   -0.001</td> <td>    0.088</td>\n",
       "</tr>\n",
       "<tr>\n",
       "  <th>C(Season)[T.3]</th> <td>    0.0903</td> <td>    0.023</td> <td>    3.969</td> <td> 0.000</td> <td>    0.046</td> <td>    0.135</td>\n",
       "</tr>\n",
       "<tr>\n",
       "  <th>C(Season)[T.4]</th> <td>    0.0918</td> <td>    0.023</td> <td>    4.027</td> <td> 0.000</td> <td>    0.047</td> <td>    0.136</td>\n",
       "</tr>\n",
       "</table>\n",
       "<table class=\"simpletable\">\n",
       "<tr>\n",
       "  <th>Omnibus:</th>       <td>1411.075</td> <th>  Durbin-Watson:     </th> <td>   1.985</td> \n",
       "</tr>\n",
       "<tr>\n",
       "  <th>Prob(Omnibus):</th>  <td> 0.000</td>  <th>  Jarque-Bera (JB):  </th> <td>14138.766</td>\n",
       "</tr>\n",
       "<tr>\n",
       "  <th>Skew:</th>           <td> 2.510</td>  <th>  Prob(JB):          </th> <td>    0.00</td> \n",
       "</tr>\n",
       "<tr>\n",
       "  <th>Kurtosis:</th>       <td>13.513</td>  <th>  Cond. No.          </th> <td>    4.87</td> \n",
       "</tr>\n",
       "</table><br/><br/>Warnings:<br/>[1] Standard Errors assume that the covariance matrix of the errors is correctly specified."
      ],
      "text/plain": [
       "<class 'statsmodels.iolib.summary.Summary'>\n",
       "\"\"\"\n",
       "                            OLS Regression Results                            \n",
       "==============================================================================\n",
       "Dep. Variable:              RV_sc_sqr   R-squared:                       0.009\n",
       "Model:                            OLS   Adj. R-squared:                  0.008\n",
       "Method:                 Least Squares   F-statistic:                     7.361\n",
       "Date:                Sun, 09 May 2021   Prob (F-statistic):           6.55e-05\n",
       "Time:                        20:16:58   Log-Likelihood:                -1251.1\n",
       "No. Observations:                2500   AIC:                             2510.\n",
       "Df Residuals:                    2496   BIC:                             2534.\n",
       "Df Model:                           3                                         \n",
       "Covariance Type:            nonrobust                                         \n",
       "==================================================================================\n",
       "                     coef    std err          t      P>|t|      [0.025      0.975]\n",
       "----------------------------------------------------------------------------------\n",
       "Intercept          0.6062      0.016     37.202      0.000       0.574       0.638\n",
       "C(Season)[T.2]     0.0439      0.023      1.933      0.053      -0.001       0.088\n",
       "C(Season)[T.3]     0.0903      0.023      3.969      0.000       0.046       0.135\n",
       "C(Season)[T.4]     0.0918      0.023      4.027      0.000       0.047       0.136\n",
       "==============================================================================\n",
       "Omnibus:                     1411.075   Durbin-Watson:                   1.985\n",
       "Prob(Omnibus):                  0.000   Jarque-Bera (JB):            14138.766\n",
       "Skew:                           2.510   Prob(JB):                         0.00\n",
       "Kurtosis:                      13.513   Cond. No.                         4.87\n",
       "==============================================================================\n",
       "\n",
       "Warnings:\n",
       "[1] Standard Errors assume that the covariance matrix of the errors is correctly specified.\n",
       "\"\"\""
      ]
     },
     "execution_count": 21,
     "metadata": {},
     "output_type": "execute_result"
    }
   ],
   "source": [
    "model2 = smf.ols(formula='RV_sc_sqr ~ C(Season)', data=data) \n",
    "reg2 = model2.fit()\n",
    "reg2.summary()"
   ]
  },
  {
   "cell_type": "markdown",
   "metadata": {},
   "source": [
    "Prediction equation from the output is:\n",
    " \n",
    "$\\text{RV_sc_sqr} = 0.6062 + 0.0439 \\times \\text{Autumn} + 0.0903 \\times \\text{Winter} + 0.0918 \\times \\text{Spring}$\n",
    "\n",
    "The four predictions for RV_sc_sqr, for each category of Season are:\n",
    "\n",
    "$\\text{RV_sc_sqr} = 0.6062$, when $\\text{Autumn} = \\text{Winter} = \\text{Spring} = 0$, i.e. Season $= 1$ (Summer)\n",
    "\n",
    "$\\text{RV_sc_sqr} = 0.6062 + 0.0439 = 0.6501$, when $\\text{Autumn} = 1, \\text{Winter} = \\text{Spring} = 0$, i.e. Season $= 2$ (Autumn)\n",
    "\n",
    "$\\text{RV_sc_sqr} = 0.6062 + 0.0903 = 0.6965$, when $\\text{Winter} = 1, \\text{Autumn} = \\text{Spring} = 0$, i.e. Season $= 3$ (Winter)\n",
    "\n",
    "$\\text{RV_sc_sqr} = 0.6062 + 0.0918 = 0.698$, when $\\text{Spring} = 1, \\text{Autumn} = \\text{Winter} = 0$, i.e. Season $= 4$ (Spring)"
   ]
  },
  {
   "cell_type": "code",
   "execution_count": 22,
   "metadata": {},
   "outputs": [
    {
     "data": {
      "text/plain": [
       "<matplotlib.collections.PathCollection at 0x23b1b6c80a0>"
      ]
     },
     "execution_count": 22,
     "metadata": {},
     "output_type": "execute_result"
    },
    {
     "data": {
      "image/png": "[encoded data removed]",
      "text/plain": [
       "<Figure size 432x288 with 1 Axes>"
      ]
     },
     "metadata": {
      "needs_background": "light"
     },
     "output_type": "display_data"
    }
   ],
   "source": [
    "res2 = reg2.resid\n",
    "fit2 = reg2.fittedvalues\n",
    "plt.scatter(fit2,res2)\n",
    "#plt.show()"
   ]
  },
  {
   "cell_type": "code",
   "execution_count": 23,
   "metadata": {},
   "outputs": [
    {
     "data": {
      "text/html": [
       "<div>\n",
       "<style scoped>\n",
       "    .dataframe tbody tr th:only-of-type {\n",
       "        vertical-align: middle;\n",
       "    }\n",
       "\n",
       "    .dataframe tbody tr th {\n",
       "        vertical-align: top;\n",
       "    }\n",
       "\n",
       "    .dataframe thead th {\n",
       "        text-align: right;\n",
       "    }\n",
       "</style>\n",
       "<table border=\"1\" class=\"dataframe\">\n",
       "  <thead>\n",
       "    <tr style=\"text-align: right;\">\n",
       "      <th></th>\n",
       "      <th>df</th>\n",
       "      <th>sum_sq</th>\n",
       "      <th>mean_sq</th>\n",
       "      <th>F</th>\n",
       "      <th>PR(&gt;F)</th>\n",
       "    </tr>\n",
       "  </thead>\n",
       "  <tbody>\n",
       "    <tr>\n",
       "      <th>C(Season)</th>\n",
       "      <td>3.0</td>\n",
       "      <td>3.523371</td>\n",
       "      <td>1.174457</td>\n",
       "      <td>7.360992</td>\n",
       "      <td>0.000066</td>\n",
       "    </tr>\n",
       "    <tr>\n",
       "      <th>Residual</th>\n",
       "      <td>2496.0</td>\n",
       "      <td>398.240448</td>\n",
       "      <td>0.159551</td>\n",
       "      <td>NaN</td>\n",
       "      <td>NaN</td>\n",
       "    </tr>\n",
       "  </tbody>\n",
       "</table>\n",
       "</div>"
      ],
      "text/plain": [
       "               df      sum_sq   mean_sq         F    PR(>F)\n",
       "C(Season)     3.0    3.523371  1.174457  7.360992  0.000066\n",
       "Residual   2496.0  398.240448  0.159551       NaN       NaN"
      ]
     },
     "execution_count": 23,
     "metadata": {},
     "output_type": "execute_result"
    }
   ],
   "source": [
    "table2 = sm.stats.anova_lm(reg2, typ=1)\n",
    "table2"
   ]
  },
  {
   "cell_type": "markdown",
   "metadata": {},
   "source": [
    "ANOVA table\n",
    "\n",
    "| Source     |    SS         |   df   | Mean square |    F    |          p-val          |\n",
    "|------------|---------------|--------|-------------|---------|-------------------------|\n",
    "| Season     |  3.523371     |   3    |  1.174457   | 7.360992| 6.6 $\\times 10^{-5}$    |\n",
    "| Residuals  |  398.240448   |  2496  |  0.159551   |         |                         |\n",
    "| Total      |  401.763819   |  2499  |             |         |                         |  \n",
    "\n",
    "The hypotheses are: \n",
    "\n",
    "$H_0 \\, : \\, \\mu_1 = \\mu_2 = \\mu_3 = \\mu_4$ \n",
    "\n",
    "$H_1 \\, : \\, \\text{at least one pair of means are not equal}$\n",
    "\n",
    "I choose $\\alpha=0.05$ as standard. I assume MLR LSA 1-6.\n",
    "\n",
    "1. the groups are independent and the data iid in each group. I assumes the distribution of RV_sc_sqr is the same within each group and is only affected by Season. The data is iid and each group are independent are satissfied in here.\n",
    "2. The data have finite 4th moments in each group, since price of stock have a finite range (bounded random variable) so the volatility of the stock itself is finite (RV_sc_sqr), this assumption is satissfied.\n",
    "3. CLT is satisfied, needing at least 30 observations in each group. This is clearly satisifed here.\n",
    "4. Homoskedasticity assumption are not quite satissfied. The variance in each groups differ based on the residuals plot.\n",
    "\n",
    "The test statistic is $F_{stat} = 7.360992$ which follows an $F_{3, 2496}$ distribution under the null hypothesis. The p-value is $P(F_{3, 2496} > 7.36) = 6.6 \\times 10^{-5} = 0.000066$. Since the p-value $0.000066 < 0.05$ we reject the null and conclude that average RV_sc_sqr differs significantly among at least two of Season groups.\n",
    "\n",
    "Model $adjR^2=0.008$, which told me that 0.8% of the variences in market volatility explained by the OLS model that I produce, this value indicates weak fit of model to the data and the value in here are half compared to $adjR^2$ of day of week model."
   ]
  },
  {
   "cell_type": "code",
   "execution_count": 24,
   "metadata": {},
   "outputs": [
    {
     "name": "stdout",
     "output_type": "stream",
     "text": [
      "Multiple Comparison of Means - Tukey HSD, FWER=0.05\n",
      "===================================================\n",
      "group1 group2 meandiff p-adj   lower  upper  reject\n",
      "---------------------------------------------------\n",
      "     1      2   0.0439 0.2144 -0.0145 0.1023  False\n",
      "     1      3   0.0903  0.001  0.0318 0.1488   True\n",
      "     1      4   0.0918  0.001  0.0332 0.1503   True\n",
      "     2      3   0.0464 0.1638 -0.0113  0.104  False\n",
      "     2      4   0.0478 0.1436 -0.0099 0.1056  False\n",
      "     3      4   0.0015    0.9 -0.0563 0.0593  False\n",
      "---------------------------------------------------\n"
     ]
    }
   ],
   "source": [
    "from statsmodels.stats.multicomp import pairwise_tukeyhsd\n",
    "from statsmodels.stats.multicomp import MultiComparison\n",
    "mc2 = MultiComparison(data['RV_sc_sqr'], data['Season'])\n",
    "result2 = mc2.tukeyhsd()\n",
    "print(result2)"
   ]
  },
  {
   "cell_type": "markdown",
   "metadata": {},
   "source": [
    "By Tukey's method, I am (at least) 95% confident that the mean RV_sc_sqr for the 1st group of Season (Summer), 1 and 3, 1 and 4 are significantly different to each other. The data clearly suggest that average RV_sc_sqr for season 1 (Summer) is significantly lower than season 3 (Winter) and season 4 (Spring) but not compared to season 2 (Autumn)."
   ]
  },
  {
   "cell_type": "markdown",
   "metadata": {},
   "source": [
    "As I have done data cleaning earlier in the assignment, there is no need of doing further data cleaning. For data manipulation, I have an option to do log transformation in the data and data thinning for the data. Log transformation is not needed as the original data itself are suitable enough and data thinning is not suitable in here cause it could violate the rule of CLT and the data already being randomized and thinned from its original data that we could found in tutorial 3."
   ]
  },
  {
   "cell_type": "code",
   "execution_count": 25,
   "metadata": {},
   "outputs": [
    {
     "data": {
      "text/html": [
       "<table class=\"simpletable\">\n",
       "<caption>OLS Regression Results</caption>\n",
       "<tr>\n",
       "  <th>Dep. Variable:</th>        <td>RV_sc_sqr</td>    <th>  R-squared:         </th> <td>   0.033</td>\n",
       "</tr>\n",
       "<tr>\n",
       "  <th>Model:</th>                   <td>OLS</td>       <th>  Adj. R-squared:    </th> <td>   0.026</td>\n",
       "</tr>\n",
       "<tr>\n",
       "  <th>Method:</th>             <td>Least Squares</td>  <th>  F-statistic:       </th> <td>   4.464</td>\n",
       "</tr>\n",
       "<tr>\n",
       "  <th>Date:</th>             <td>Sun, 09 May 2021</td> <th>  Prob (F-statistic):</th> <td>4.29e-10</td>\n",
       "</tr>\n",
       "<tr>\n",
       "  <th>Time:</th>                 <td>20:16:59</td>     <th>  Log-Likelihood:    </th> <td> -1220.1</td>\n",
       "</tr>\n",
       "<tr>\n",
       "  <th>No. Observations:</th>      <td>  2500</td>      <th>  AIC:               </th> <td>   2480.</td>\n",
       "</tr>\n",
       "<tr>\n",
       "  <th>Df Residuals:</th>          <td>  2480</td>      <th>  BIC:               </th> <td>   2597.</td>\n",
       "</tr>\n",
       "<tr>\n",
       "  <th>Df Model:</th>              <td>    19</td>      <th>                     </th>     <td> </td>   \n",
       "</tr>\n",
       "<tr>\n",
       "  <th>Covariance Type:</th>      <td>nonrobust</td>    <th>                     </th>     <td> </td>   \n",
       "</tr>\n",
       "</table>\n",
       "<table class=\"simpletable\">\n",
       "<tr>\n",
       "                   <td></td>                     <th>coef</th>     <th>std err</th>      <th>t</th>      <th>P>|t|</th>  <th>[0.025</th>    <th>0.975]</th>  \n",
       "</tr>\n",
       "<tr>\n",
       "  <th>Intercept</th>                          <td>    0.6122</td> <td>    0.036</td> <td>   17.015</td> <td> 0.000</td> <td>    0.542</td> <td>    0.683</td>\n",
       "</tr>\n",
       "<tr>\n",
       "  <th>C(day_of_week)[T.1]</th>                <td>    0.0339</td> <td>    0.051</td> <td>    0.666</td> <td> 0.505</td> <td>   -0.066</td> <td>    0.134</td>\n",
       "</tr>\n",
       "<tr>\n",
       "  <th>C(day_of_week)[T.2]</th>                <td>    0.0442</td> <td>    0.051</td> <td>    0.872</td> <td> 0.383</td> <td>   -0.055</td> <td>    0.144</td>\n",
       "</tr>\n",
       "<tr>\n",
       "  <th>C(day_of_week)[T.3]</th>                <td>    0.0514</td> <td>    0.051</td> <td>    1.001</td> <td> 0.317</td> <td>   -0.049</td> <td>    0.152</td>\n",
       "</tr>\n",
       "<tr>\n",
       "  <th>C(day_of_week)[T.4]</th>                <td>   -0.1613</td> <td>    0.051</td> <td>   -3.156</td> <td> 0.002</td> <td>   -0.261</td> <td>   -0.061</td>\n",
       "</tr>\n",
       "<tr>\n",
       "  <th>C(Season)[T.2]</th>                     <td>    0.0758</td> <td>    0.050</td> <td>    1.507</td> <td> 0.132</td> <td>   -0.023</td> <td>    0.174</td>\n",
       "</tr>\n",
       "<tr>\n",
       "  <th>C(Season)[T.3]</th>                     <td>    0.0928</td> <td>    0.051</td> <td>    1.827</td> <td> 0.068</td> <td>   -0.007</td> <td>    0.192</td>\n",
       "</tr>\n",
       "<tr>\n",
       "  <th>C(Season)[T.4]</th>                     <td>    0.0889</td> <td>    0.051</td> <td>    1.759</td> <td> 0.079</td> <td>   -0.010</td> <td>    0.188</td>\n",
       "</tr>\n",
       "<tr>\n",
       "  <th>C(day_of_week)[T.1]:C(Season)[T.2]</th> <td>   -0.0696</td> <td>    0.070</td> <td>   -0.989</td> <td> 0.323</td> <td>   -0.208</td> <td>    0.068</td>\n",
       "</tr>\n",
       "<tr>\n",
       "  <th>C(day_of_week)[T.2]:C(Season)[T.2]</th> <td>   -0.0597</td> <td>    0.071</td> <td>   -0.844</td> <td> 0.399</td> <td>   -0.198</td> <td>    0.079</td>\n",
       "</tr>\n",
       "<tr>\n",
       "  <th>C(day_of_week)[T.3]:C(Season)[T.2]</th> <td>   -0.0866</td> <td>    0.071</td> <td>   -1.221</td> <td> 0.222</td> <td>   -0.226</td> <td>    0.053</td>\n",
       "</tr>\n",
       "<tr>\n",
       "  <th>C(day_of_week)[T.4]:C(Season)[T.2]</th> <td>    0.0447</td> <td>    0.073</td> <td>    0.614</td> <td> 0.539</td> <td>   -0.098</td> <td>    0.188</td>\n",
       "</tr>\n",
       "<tr>\n",
       "  <th>C(day_of_week)[T.1]:C(Season)[T.3]</th> <td>   -0.0286</td> <td>    0.071</td> <td>   -0.403</td> <td> 0.687</td> <td>   -0.168</td> <td>    0.111</td>\n",
       "</tr>\n",
       "<tr>\n",
       "  <th>C(day_of_week)[T.2]:C(Season)[T.3]</th> <td>   -0.0526</td> <td>    0.071</td> <td>   -0.738</td> <td> 0.460</td> <td>   -0.192</td> <td>    0.087</td>\n",
       "</tr>\n",
       "<tr>\n",
       "  <th>C(day_of_week)[T.3]:C(Season)[T.3]</th> <td>   -0.0475</td> <td>    0.072</td> <td>   -0.656</td> <td> 0.512</td> <td>   -0.190</td> <td>    0.094</td>\n",
       "</tr>\n",
       "<tr>\n",
       "  <th>C(day_of_week)[T.4]:C(Season)[T.3]</th> <td>    0.1195</td> <td>    0.071</td> <td>    1.675</td> <td> 0.094</td> <td>   -0.020</td> <td>    0.259</td>\n",
       "</tr>\n",
       "<tr>\n",
       "  <th>C(day_of_week)[T.1]:C(Season)[T.4]</th> <td>   -0.0145</td> <td>    0.071</td> <td>   -0.204</td> <td> 0.838</td> <td>   -0.154</td> <td>    0.125</td>\n",
       "</tr>\n",
       "<tr>\n",
       "  <th>C(day_of_week)[T.2]:C(Season)[T.4]</th> <td>    0.0286</td> <td>    0.071</td> <td>    0.401</td> <td> 0.689</td> <td>   -0.111</td> <td>    0.168</td>\n",
       "</tr>\n",
       "<tr>\n",
       "  <th>C(day_of_week)[T.3]:C(Season)[T.4]</th> <td>    0.0034</td> <td>    0.071</td> <td>    0.048</td> <td> 0.962</td> <td>   -0.136</td> <td>    0.143</td>\n",
       "</tr>\n",
       "<tr>\n",
       "  <th>C(day_of_week)[T.4]:C(Season)[T.4]</th> <td>   -0.0195</td> <td>    0.072</td> <td>   -0.269</td> <td> 0.788</td> <td>   -0.161</td> <td>    0.122</td>\n",
       "</tr>\n",
       "</table>\n",
       "<table class=\"simpletable\">\n",
       "<tr>\n",
       "  <th>Omnibus:</th>       <td>1418.688</td> <th>  Durbin-Watson:     </th> <td>   1.986</td> \n",
       "</tr>\n",
       "<tr>\n",
       "  <th>Prob(Omnibus):</th>  <td> 0.000</td>  <th>  Jarque-Bera (JB):  </th> <td>14405.454</td>\n",
       "</tr>\n",
       "<tr>\n",
       "  <th>Skew:</th>           <td> 2.523</td>  <th>  Prob(JB):          </th> <td>    0.00</td> \n",
       "</tr>\n",
       "<tr>\n",
       "  <th>Kurtosis:</th>       <td>13.622</td>  <th>  Cond. No.          </th> <td>    28.4</td> \n",
       "</tr>\n",
       "</table><br/><br/>Warnings:<br/>[1] Standard Errors assume that the covariance matrix of the errors is correctly specified."
      ],
      "text/plain": [
       "<class 'statsmodels.iolib.summary.Summary'>\n",
       "\"\"\"\n",
       "                            OLS Regression Results                            \n",
       "==============================================================================\n",
       "Dep. Variable:              RV_sc_sqr   R-squared:                       0.033\n",
       "Model:                            OLS   Adj. R-squared:                  0.026\n",
       "Method:                 Least Squares   F-statistic:                     4.464\n",
       "Date:                Sun, 09 May 2021   Prob (F-statistic):           4.29e-10\n",
       "Time:                        20:16:59   Log-Likelihood:                -1220.1\n",
       "No. Observations:                2500   AIC:                             2480.\n",
       "Df Residuals:                    2480   BIC:                             2597.\n",
       "Df Model:                          19                                         \n",
       "Covariance Type:            nonrobust                                         \n",
       "======================================================================================================\n",
       "                                         coef    std err          t      P>|t|      [0.025      0.975]\n",
       "------------------------------------------------------------------------------------------------------\n",
       "Intercept                              0.6122      0.036     17.015      0.000       0.542       0.683\n",
       "C(day_of_week)[T.1]                    0.0339      0.051      0.666      0.505      -0.066       0.134\n",
       "C(day_of_week)[T.2]                    0.0442      0.051      0.872      0.383      -0.055       0.144\n",
       "C(day_of_week)[T.3]                    0.0514      0.051      1.001      0.317      -0.049       0.152\n",
       "C(day_of_week)[T.4]                   -0.1613      0.051     -3.156      0.002      -0.261      -0.061\n",
       "C(Season)[T.2]                         0.0758      0.050      1.507      0.132      -0.023       0.174\n",
       "C(Season)[T.3]                         0.0928      0.051      1.827      0.068      -0.007       0.192\n",
       "C(Season)[T.4]                         0.0889      0.051      1.759      0.079      -0.010       0.188\n",
       "C(day_of_week)[T.1]:C(Season)[T.2]    -0.0696      0.070     -0.989      0.323      -0.208       0.068\n",
       "C(day_of_week)[T.2]:C(Season)[T.2]    -0.0597      0.071     -0.844      0.399      -0.198       0.079\n",
       "C(day_of_week)[T.3]:C(Season)[T.2]    -0.0866      0.071     -1.221      0.222      -0.226       0.053\n",
       "C(day_of_week)[T.4]:C(Season)[T.2]     0.0447      0.073      0.614      0.539      -0.098       0.188\n",
       "C(day_of_week)[T.1]:C(Season)[T.3]    -0.0286      0.071     -0.403      0.687      -0.168       0.111\n",
       "C(day_of_week)[T.2]:C(Season)[T.3]    -0.0526      0.071     -0.738      0.460      -0.192       0.087\n",
       "C(day_of_week)[T.3]:C(Season)[T.3]    -0.0475      0.072     -0.656      0.512      -0.190       0.094\n",
       "C(day_of_week)[T.4]:C(Season)[T.3]     0.1195      0.071      1.675      0.094      -0.020       0.259\n",
       "C(day_of_week)[T.1]:C(Season)[T.4]    -0.0145      0.071     -0.204      0.838      -0.154       0.125\n",
       "C(day_of_week)[T.2]:C(Season)[T.4]     0.0286      0.071      0.401      0.689      -0.111       0.168\n",
       "C(day_of_week)[T.3]:C(Season)[T.4]     0.0034      0.071      0.048      0.962      -0.136       0.143\n",
       "C(day_of_week)[T.4]:C(Season)[T.4]    -0.0195      0.072     -0.269      0.788      -0.161       0.122\n",
       "==============================================================================\n",
       "Omnibus:                     1418.688   Durbin-Watson:                   1.986\n",
       "Prob(Omnibus):                  0.000   Jarque-Bera (JB):            14405.454\n",
       "Skew:                           2.523   Prob(JB):                         0.00\n",
       "Kurtosis:                      13.622   Cond. No.                         28.4\n",
       "==============================================================================\n",
       "\n",
       "Warnings:\n",
       "[1] Standard Errors assume that the covariance matrix of the errors is correctly specified.\n",
       "\"\"\""
      ]
     },
     "execution_count": 25,
     "metadata": {},
     "output_type": "execute_result"
    }
   ],
   "source": [
    "model3 = smf.ols(formula='RV_sc_sqr ~ C(day_of_week) + C(Season) + C(day_of_week):C(Season)', data=data) \n",
    "reg3 = model3.fit()\n",
    "reg3.summary()"
   ]
  },
  {
   "cell_type": "markdown",
   "metadata": {},
   "source": [
    "Prediction for equation the output is:\n",
    "\n",
    "$\\text{RV_sc_sqr} = 0.6112 + 0.0339 \\times \\text{Tuesday} + 0.0442 \\times \\text{Wednesday} + 0.0514 \\times \\text{Thursday} - 0.1612 \\times \\text{Friday} + 0.0758 \\times \\text{Autumn} + 0.0938 \\times \\text{Winter} + 0.0889 \\times \\text{Spring} - 0.0696 \\times \\text{Autumn} \\times \\text{Tuesday} - 0.0597 \\times \\text{Autumn} \\times \\text{Wednesday} - 0.0866 \\times \\text{Autumn} \\times \\text{Thursday} + 0.0447 \\times{Autumn} \\times \\text{Friday} - 0.0286 \\times \\text{Winter} \\times \\text{Tuesday} - 0.0526 \\times \\text{Winter} \\times \\text{Wednesday} - 0.0451 \\times \\text{Winter} \\times \\text{Thursday} + 0.1195 \\times \\text{Winter} \\times \\text{Friday} - 0.0145 \\times \\text{Spring} \\times \\text{Tuesday} + 0.0286 \\times \\text{Spring} \\times \\text{Wednesday} + 0.0034 \\times \\text{Spring} \\times \\text{Thursday} - 0.0195 \\times \\text{Spring} \\times \\text{Friday}$\n"
   ]
  },
  {
   "cell_type": "code",
   "execution_count": 27,
   "metadata": {},
   "outputs": [
    {
     "data": {
      "text/plain": [
       "<matplotlib.collections.PathCollection at 0x23b1b607b50>"
      ]
     },
     "execution_count": 27,
     "metadata": {},
     "output_type": "execute_result"
    },
    {
     "data": {
      "image/png": "[encoded data removed]",
      "text/plain": [
       "<Figure size 432x288 with 1 Axes>"
      ]
     },
     "metadata": {
      "needs_background": "light"
     },
     "output_type": "display_data"
    }
   ],
   "source": [
    "res3 = reg3.resid\n",
    "fit3 = reg3.fittedvalues\n",
    "plt.scatter(fit3,res3)\n",
    "#plt.show()"
   ]
  },
  {
   "cell_type": "code",
   "execution_count": 26,
   "metadata": {},
   "outputs": [
    {
     "data": {
      "text/html": [
       "<div>\n",
       "<style scoped>\n",
       "    .dataframe tbody tr th:only-of-type {\n",
       "        vertical-align: middle;\n",
       "    }\n",
       "\n",
       "    .dataframe tbody tr th {\n",
       "        vertical-align: top;\n",
       "    }\n",
       "\n",
       "    .dataframe thead th {\n",
       "        text-align: right;\n",
       "    }\n",
       "</style>\n",
       "<table border=\"1\" class=\"dataframe\">\n",
       "  <thead>\n",
       "    <tr style=\"text-align: right;\">\n",
       "      <th></th>\n",
       "      <th>sum_sq</th>\n",
       "      <th>df</th>\n",
       "      <th>F</th>\n",
       "      <th>PR(&gt;F)</th>\n",
       "    </tr>\n",
       "  </thead>\n",
       "  <tbody>\n",
       "    <tr>\n",
       "      <th>Intercept</th>\n",
       "      <td>45.350302</td>\n",
       "      <td>1.0</td>\n",
       "      <td>289.510450</td>\n",
       "      <td>1.713593e-61</td>\n",
       "    </tr>\n",
       "    <tr>\n",
       "      <th>C(day_of_week)</th>\n",
       "      <td>3.760581</td>\n",
       "      <td>4.0</td>\n",
       "      <td>6.001766</td>\n",
       "      <td>8.359947e-05</td>\n",
       "    </tr>\n",
       "    <tr>\n",
       "      <th>C(Season)</th>\n",
       "      <td>0.691022</td>\n",
       "      <td>3.0</td>\n",
       "      <td>1.470465</td>\n",
       "      <td>2.206109e-01</td>\n",
       "    </tr>\n",
       "    <tr>\n",
       "      <th>C(day_of_week):C(Season)</th>\n",
       "      <td>2.575617</td>\n",
       "      <td>12.0</td>\n",
       "      <td>1.370201</td>\n",
       "      <td>1.726991e-01</td>\n",
       "    </tr>\n",
       "    <tr>\n",
       "      <th>Residual</th>\n",
       "      <td>388.479065</td>\n",
       "      <td>2480.0</td>\n",
       "      <td>NaN</td>\n",
       "      <td>NaN</td>\n",
       "    </tr>\n",
       "  </tbody>\n",
       "</table>\n",
       "</div>"
      ],
      "text/plain": [
       "                              sum_sq      df           F        PR(>F)\n",
       "Intercept                  45.350302     1.0  289.510450  1.713593e-61\n",
       "C(day_of_week)              3.760581     4.0    6.001766  8.359947e-05\n",
       "C(Season)                   0.691022     3.0    1.470465  2.206109e-01\n",
       "C(day_of_week):C(Season)    2.575617    12.0    1.370201  1.726991e-01\n",
       "Residual                  388.479065  2480.0         NaN           NaN"
      ]
     },
     "execution_count": 26,
     "metadata": {},
     "output_type": "execute_result"
    }
   ],
   "source": [
    "table3 = sm.stats.anova_lm(reg3, typ=3)\n",
    "table3"
   ]
  },
  {
   "cell_type": "markdown",
   "metadata": {},
   "source": [
    "ANOVA table\n",
    "\n",
    "| Source     |    SS         |   df   | Mean square |    F    |          p-val          |\n",
    "|------------|---------------|--------|-------------|---------|-------------------------|\n",
    "| Day of week|  3.760581     |   4    |  0.94014525 | 6.001766| 8.3599 $\\times 10^{-5}$ |\n",
    "| Season     |  0.691022     |   3    |  0.23034067 | 1.470465| 2.2061 $\\times 10^{-1}$ |\n",
    "| Interaction|  2.575617     |   12   |  0.21463475 | 1.370201| 1.7270 $\\times 10^{-1}$ |    \n",
    "| Residuals  |  388.479065   |  2480  |  0.15664478 |         |                         |\n",
    "| Total      |  395.506285   |  2499  |             |         |                         |  \n",
    "\n",
    "First, test if day of week affects RV_sc_sqr:\n",
    "\n",
    "The hypotheses are:  \n",
    "\n",
    "$H_0 \\, : \\, \\mu_0 = \\mu_1 = \\mu_2 = \\mu_3 = \\mu_4$  \n",
    "\n",
    "$H_1 \\, : \\, $ At least one pair of means are not equal. \n",
    "\n",
    "I choose $\\alpha = 0.05$ as standard. \n",
    "\n",
    "The F statistic is $6.001766$. Under the null hypothesis, and the LSA including equal variance, this statistic has an $F_{4,2480 }$ distrbution. The p-value is the chance of observing an $F_{4, 2480}$ variable as high as $6.001766$, or higher; i.e. \n",
    "p-value $= P(F_{4, 2480} \\geq 6.001766) = 8.359947 \\times 10^{-5} < 0.05 = \\alpha$ thus reject the null and conclude that average RV_sc_sqr differs significantly among at least two of the day of week groups.\n",
    "\n",
    "Second, test if Season affects RV_sc_sqr:\n",
    "\n",
    "The hypotheses are:  \n",
    "\n",
    "$H_0 \\, : \\, \\mu_1 = \\mu_2 = \\mu_3 = \\mu_4$\n",
    "\n",
    "$H_1 \\, : \\, $ At least one pair of means are not equal. \n",
    "\n",
    "I choose $\\alpha = 0.05$ as standard. \n",
    "\n",
    "The F statistic is $1.470465$. Under the null hypothesis, and the LSA including equal variance, this statistic has an $F_{3, 2480}$ distrbution. The p-value is the chance of observing an $F_{3, 2480}$ variable as high as $1.470465$, or higher; i.e. \n",
    "p-value $= P(F_{2, 517} \\geq 1.470465) = 2.206109 \\times 10^{-1} \\approx 0.22061 > 0.05 = \\alpha$ thus accept the null and conclude that average RV_sc_sqr equal among each season groups.\n",
    "\n",
    "Interaction effect on RV_sc_sqr with the two categories variable which are day f week and seasons:\n",
    "\n",
    "In here we assume i as (0,1,2,3,4) represent group in day of week and k as (1,2,3,4) represent group of season.\n",
    "\n",
    "$H_0 \\, : \\, \\mu_{i,k} = \\mu_{0,1} = \\mu_{0,2} = \\mu_{0,3} = \\mu_{0,4}, ..... , \\mu_{4,1} = \\mu_{4,2} = \\mu_{4,3} = \\mu_{4,4}$ \n",
    "\n",
    "$H_1 \\, : \\, $ At least one pair of means are not equal. \n",
    "\n",
    "I choose $\\alpha = 0.05$ as standard. \n",
    "\n",
    "The F statistic is $1.370201$. Under the null hypothesis, and the LSA including equal variance, this statistic has an $F_{12, 2480}$ distrbution. The p-value is the chance of observing an $F_{12, 2480}$ variable as high as $1.370201$, or higher; i.e. \n",
    "p-value $= P(F_{12, 2480} \\geq 1.370201) = 1.72 \\times 10^{-1} \\approx 0.17270 > 0.05 = \\alpha$ thus accept the null and conclude that the effect of each predictor on average RV_sc_sqr equal over the category levels of the other predictor.\n",
    "\n",
    "I assume MLR LSA 1-6 for two way ANOVA test.\n",
    "\n",
    "1. the groups are independent and the data iid in each group. I assumes the distribution of RV_sc_sqr is the same within each group and is only affected by Season. The data is iid and each group are independent are satissfied in here.\n",
    "2. The data have finite 4th moments in each group, since price of stock have a finite range (bounded random variable) so the volatility of the stock itself is finite (RV_sc_sqr), this assumption is satissfied.\n",
    "3. CLT is satisfied, needing at least 30 observations in each group. This is clearly satisifed here.\n",
    "4. Homoskedasticity assumption are not quite satissfied, The variance in each groups differ based on the residuals plot.\n",
    "\n",
    "Model $adjR^2=0.026$, which told me that 2.6% of the variences in market volatility explained by the OLS model that I produce, this value is much better compared than the value given in individual model of both day of week and season. But this value indicates weak fit of model to the data"
   ]
  },
  {
   "cell_type": "markdown",
   "metadata": {},
   "source": [
    "In summary I know that days of week and season both have significant effects on RV_sc_sqr (market volatility measured every 5 minutes) using one way ANOVA test. The F test conducted with RV_sc_sqr and day of week show that at least one pair of days of week has significantly different average of RV_sc_sqr compared to other (since I reject the null). The F test conducted with RV_sc_sqr and seasons with one way ANOVA show similar result, at least one pair of seasons has significantly different average of RV_sc_sqr compared to other (since I reject the null).\n",
    "\n",
    "The average RV_sc_sqr are significantly lower on Friday compared to other days of week as its shown from the boxplot that I plotted before, this being confirmed by Tukey's method that I did. I find similar finding for the average RV_sc_sqr are significantly lower on summer compared to winter and spring but not with autumn, this result also showed in the boxplot.\n",
    "\n",
    "Doing two way ANOVA, RV_sc_sqr with both day of week and seasons as predictors. From the F test I conducted, the result show one of group average for days of week was different.In the other hand, F test result show average of season being equal with all the groups of seasons. This findings are different from what I found in question 2. Overall the interection effects of day of week and season are not significant proven by the F test result.\n",
    "\n",
    "At the end I conclude that day of week and seasons give significant effect to average RV_sc_sqr which are known also as 'market violatility' if their are independent from each other. This shown by the result of Friday having lower market violatility compared to other day in a week and for season, summer having lower market violatility compared to other season in a year. For the interaction effect between day of week and seasons does not differ significantly this told us that effect of combination between Monday with either summer,winter,autumn or spring are not significant."
   ]
  },
  {
   "cell_type": "code",
   "execution_count": null,
   "metadata": {},
   "outputs": [],
   "source": []
  }
 ],
 "metadata": {
  "kernelspec": {
   "display_name": "Python 3",
   "language": "python",
   "name": "python3"
  },
  "language_info": {
   "codemirror_mode": {
    "name": "ipython",
    "version": 3
   },
   "file_extension": ".py",
   "mimetype": "text/x-python",
   "name": "python",
   "nbconvert_exporter": "python",
   "pygments_lexer": "ipython3",
   "version": "3.8.3"
  }
 },
 "nbformat": 4,
 "nbformat_minor": 4
}
